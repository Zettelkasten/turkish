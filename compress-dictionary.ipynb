{
 "cells": [
  {
   "cell_type": "code",
   "id": "initial_id",
   "metadata": {
    "collapsed": true,
    "ExecuteTime": {
     "end_time": "2025-06-30T22:16:55.605516Z",
     "start_time": "2025-06-30T22:16:52.495173Z"
    }
   },
   "source": [
    "import json\n",
    "full_dictionary = json.load(open(\"dictionary.json\", \"rt\"))"
   ],
   "outputs": [],
   "execution_count": 3
  },
  {
   "metadata": {
    "ExecuteTime": {
     "end_time": "2025-06-30T22:37:51.647491Z",
     "start_time": "2025-06-30T22:37:50.325770Z"
    }
   },
   "cell_type": "code",
   "source": [
    "pos_map = {\"n.\": \"Noun\", \"adj.\": \"Adj\", \"adv.\": \"Adverb\", \"v.\": \"Verb\", \"conj.\": \"Conj\"}\n",
    "skip_types = [\"interj.\", \"expr.\", \"abrev.\", \"pref.\", \"prep.\", \"suf.\", \"exclam.\", \"pron.\", \"\"]\n",
    "allowed_categories = [\"General\", \"Common Usage\"]\n",
    "dictionary_by_turkish_and_pos = {}\n",
    "for word in full_dictionary:\n",
    "    turkish = word[\"tr\"]\n",
    "    english = word[\"word\"]\n",
    "    category = word.get(\"category\")\n",
    "    if len(turkish.split(\" \")) > 1:\n",
    "        continue  # skip multi words for now\n",
    "    if word[\"type\"] in skip_types:\n",
    "        continue\n",
    "    if word[\"type\"] not in pos_map:\n",
    "        print(f\"Unknown word type: {word}\")\n",
    "    pos = pos_map[word[\"type\"]]\n",
    "    if category not in allowed_categories:\n",
    "        continue\n",
    "    if pos == \"Verb\":\n",
    "        if not turkish.endswith(\"mek\") and not turkish.endswith(\"mak\"):\n",
    "            continue\n",
    "        turkish = turkish[:-3]\n",
    "    key = f\"{pos}/{turkish}\"\n",
    "    dictionary_by_turkish_and_pos.setdefault(key, []).append({\"category\": category, \"english\": english})"
   ],
   "id": "82499e588bea59b1",
   "outputs": [],
   "execution_count": 57
  },
  {
   "metadata": {
    "ExecuteTime": {
     "end_time": "2025-06-30T22:38:29.194377Z",
     "start_time": "2025-06-30T22:38:27.896940Z"
    }
   },
   "cell_type": "code",
   "source": [
    "print(len(dictionary_by_turkish_and_pos))\n",
    "with open(\"simplified_dictionary.json\", \"wt\") as out_file:\n",
    "    json.dump(dictionary_by_turkish_and_pos, out_file)"
   ],
   "id": "7d43426fbf2e7bb6",
   "outputs": [
    {
     "name": "stdout",
     "output_type": "stream",
     "text": [
      "55189\n"
     ]
    }
   ],
   "execution_count": 62
  },
  {
   "metadata": {
    "ExecuteTime": {
     "end_time": "2025-06-30T22:38:22.731550Z",
     "start_time": "2025-06-30T22:38:22.728139Z"
    }
   },
   "cell_type": "code",
   "source": "dictionary_by_turkish_and_pos[\"Noun/kahvaltı\"]",
   "id": "fb77ea97a430e6ac",
   "outputs": [
    {
     "data": {
      "text/plain": [
       "[{'category': 'General', 'english': 'almuerzo'},\n",
       " {'category': 'Common Usage', 'english': 'breakfast'},\n",
       " {'category': 'Common Usage', 'english': 'breakfasted'},\n",
       " {'category': 'Common Usage', 'english': 'breakfasting'},\n",
       " {'category': 'Common Usage', 'english': 'breakfasts'},\n",
       " {'category': 'General', 'english': 'dejeuners'},\n",
       " {'category': 'General', 'english': 'dejeuner'}]"
      ]
     },
     "execution_count": 61,
     "metadata": {},
     "output_type": "execute_result"
    }
   ],
   "execution_count": 61
  },
  {
   "metadata": {
    "ExecuteTime": {
     "end_time": "2025-06-30T22:38:06.756754Z",
     "start_time": "2025-06-30T22:38:06.672363Z"
    }
   },
   "cell_type": "code",
   "source": "[val for val in full_dictionary if val[\"tr\"] == \"uyanmak\"]",
   "id": "a2c3e8348d5b688",
   "outputs": [
    {
     "data": {
      "text/plain": [
       "[{'word': 'abray', 'category': 'General', 'type': 'v.', 'tr': 'uyanmak'},\n",
       " {'word': 'adaw', 'category': 'General', 'type': 'v.', 'tr': 'uyanmak'},\n",
       " {'word': 'arouse', 'category': 'General', 'type': 'v.', 'tr': 'uyanmak'},\n",
       " {'word': 'arouses', 'category': 'General', 'type': 'v.', 'tr': 'uyanmak'},\n",
       " {'word': 'awake', 'category': 'Common Usage', 'type': 'v.', 'tr': 'uyanmak'},\n",
       " {'word': 'awake', 'category': 'General', 'type': 'v.', 'tr': 'uyanmak'},\n",
       " {'word': 'awaken', 'category': 'General', 'type': 'v.', 'tr': 'uyanmak'},\n",
       " {'word': 'awakens', 'category': 'General', 'type': 'v.', 'tr': 'uyanmak'},\n",
       " {'word': 'awakes', 'category': 'Common Usage', 'type': 'v.', 'tr': 'uyanmak'},\n",
       " {'word': 'awakes', 'category': 'General', 'type': 'v.', 'tr': 'uyanmak'},\n",
       " {'word': 'kindle', 'category': 'General', 'type': 'v.', 'tr': 'uyanmak'},\n",
       " {'word': 'kindles', 'category': 'General', 'type': 'v.', 'tr': 'uyanmak'},\n",
       " {'word': 'realise', 'category': 'General', 'type': 'v.', 'tr': 'uyanmak'},\n",
       " {'word': 'realises', 'category': 'General', 'type': 'v.', 'tr': 'uyanmak'},\n",
       " {'word': 'realize', 'category': 'General', 'type': 'v.', 'tr': 'uyanmak'},\n",
       " {'word': 'realizes', 'category': 'General', 'type': 'v.', 'tr': 'uyanmak'},\n",
       " {'word': 'rouse', 'category': 'General', 'type': 'v.', 'tr': 'uyanmak'},\n",
       " {'word': 'roused', 'category': 'General', 'type': 'v.', 'tr': 'uyanmak'},\n",
       " {'word': 'rouses', 'category': 'General', 'type': 'v.', 'tr': 'uyanmak'},\n",
       " {'word': 'Stir', 'category': 'General', 'type': 'v.', 'tr': 'uyanmak'},\n",
       " {'word': 'unbed', 'category': 'General', 'type': 'v.', 'tr': 'uyanmak'},\n",
       " {'word': 'understand', 'category': 'General', 'type': 'v.', 'tr': 'uyanmak'},\n",
       " {'word': 'up-', 'category': 'Common Usage', 'type': 'v.', 'tr': 'uyanmak'},\n",
       " {'word': 'Wake', 'category': 'Common Usage', 'type': 'v.', 'tr': 'uyanmak'},\n",
       " {'word': 'Wake', 'category': 'General', 'type': 'v.', 'tr': 'uyanmak'},\n",
       " {'word': 'waken', 'category': 'Common Usage', 'type': 'v.', 'tr': 'uyanmak'},\n",
       " {'word': 'wakens', 'category': 'Common Usage', 'type': 'v.', 'tr': 'uyanmak'},\n",
       " {'word': 'wake-up',\n",
       "  'category': 'Common Usage',\n",
       "  'type': 'v.',\n",
       "  'tr': 'uyanmak'},\n",
       " {'word': 'wake-up', 'category': 'General', 'type': 'v.', 'tr': 'uyanmak'},\n",
       " {'word': 'wakes', 'category': 'Common Usage', 'type': 'v.', 'tr': 'uyanmak'},\n",
       " {'word': 'wakes', 'category': 'General', 'type': 'v.', 'tr': 'uyanmak'}]"
      ]
     },
     "execution_count": 59,
     "metadata": {},
     "output_type": "execute_result"
    }
   ],
   "execution_count": 59
  },
  {
   "metadata": {},
   "cell_type": "code",
   "outputs": [],
   "execution_count": null,
   "source": "",
   "id": "416b25415a93937e"
  }
 ],
 "metadata": {
  "kernelspec": {
   "display_name": "Python 3",
   "language": "python",
   "name": "python3"
  },
  "language_info": {
   "codemirror_mode": {
    "name": "ipython",
    "version": 2
   },
   "file_extension": ".py",
   "mimetype": "text/x-python",
   "name": "python",
   "nbconvert_exporter": "python",
   "pygments_lexer": "ipython2",
   "version": "2.7.6"
  }
 },
 "nbformat": 4,
 "nbformat_minor": 5
}
