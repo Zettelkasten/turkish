{
 "cells": [
  {
   "cell_type": "code",
   "id": "initial_id",
   "metadata": {
    "collapsed": true,
    "ExecuteTime": {
     "end_time": "2025-07-05T12:11:49.266330Z",
     "start_time": "2025-07-05T12:11:47.723718Z"
    }
   },
   "source": [
    "import torch\n",
    "import transformers\n",
    "import itertools"
   ],
   "outputs": [
    {
     "name": "stderr",
     "output_type": "stream",
     "text": [
      "/Users/frithjof/Documents/dev/turkish/.venv/lib/python3.12/site-packages/tqdm/auto.py:21: TqdmWarning: IProgress not found. Please update jupyter and ipywidgets. See https://ipywidgets.readthedocs.io/en/stable/user_install.html\n",
      "  from .autonotebook import tqdm as notebook_tqdm\n"
     ]
    }
   ],
   "execution_count": 2
  },
  {
   "metadata": {
    "ExecuteTime": {
     "end_time": "2025-07-05T12:14:13.215085Z",
     "start_time": "2025-07-05T12:12:04.450792Z"
    }
   },
   "cell_type": "code",
   "source": [
    "model = transformers.BertModel.from_pretrained('bert-base-multilingual-cased')\n",
    "tokenizer = transformers.BertTokenizer.from_pretrained('bert-base-multilingual-cased')"
   ],
   "id": "185c11732adce15c",
   "outputs": [],
   "execution_count": 3
  },
  {
   "metadata": {
    "ExecuteTime": {
     "end_time": "2025-07-05T12:18:20.935069Z",
     "start_time": "2025-07-05T12:18:20.931970Z"
    }
   },
   "cell_type": "code",
   "source": [
    "src = \"I have to go to sleep .\"\n",
    "tgt = \"Uyumam lazım .\""
   ],
   "id": "6498fd6e1370237c",
   "outputs": [],
   "execution_count": 13
  },
  {
   "metadata": {
    "ExecuteTime": {
     "end_time": "2025-07-05T12:18:21.875180Z",
     "start_time": "2025-07-05T12:18:21.789954Z"
    }
   },
   "cell_type": "code",
   "source": [
    "# pre-processing\n",
    "sent_src, sent_tgt = src.strip().split(), tgt.strip().split()\n",
    "token_src, token_tgt = [tokenizer.tokenize(word) for word in sent_src], [tokenizer.tokenize(word) for word in sent_tgt]\n",
    "wid_src, wid_tgt = [tokenizer.convert_tokens_to_ids(x) for x in token_src], [tokenizer.convert_tokens_to_ids(x) for x in token_tgt]\n",
    "ids_src, ids_tgt = tokenizer.prepare_for_model(list(itertools.chain(*wid_src)), return_tensors='pt', model_max_length=tokenizer.model_max_length, truncation=True)['input_ids'], tokenizer.prepare_for_model(list(itertools.chain(*wid_tgt)), return_tensors='pt', truncation=True, model_max_length=tokenizer.model_max_length)['input_ids']\n",
    "sub2word_map_src = []\n",
    "for i, word_list in enumerate(token_src):\n",
    "  sub2word_map_src += [i for x in word_list]\n",
    "sub2word_map_tgt = []\n",
    "for i, word_list in enumerate(token_tgt):\n",
    "  sub2word_map_tgt += [i for x in word_list]\n",
    "\n",
    "# alignment\n",
    "align_layer = 8\n",
    "threshold = 1e-3\n",
    "model.eval()\n",
    "with torch.no_grad():\n",
    "  out_src = model(ids_src.unsqueeze(0), output_hidden_states=True)[2][align_layer][0, 1:-1]\n",
    "  out_tgt = model(ids_tgt.unsqueeze(0), output_hidden_states=True)[2][align_layer][0, 1:-1]\n",
    "\n",
    "  dot_prod = torch.matmul(out_src, out_tgt.transpose(-1, -2))\n",
    "\n",
    "  softmax_srctgt = torch.nn.Softmax(dim=-1)(dot_prod)\n",
    "  softmax_tgtsrc = torch.nn.Softmax(dim=-2)(dot_prod)\n",
    "\n",
    "  softmax_inter = (softmax_srctgt > threshold)*(softmax_tgtsrc > threshold)\n",
    "\n",
    "align_subwords = torch.nonzero(softmax_inter, as_tuple=False)\n",
    "align_words = set()\n",
    "for i, j in align_subwords:\n",
    "  align_words.add( (sub2word_map_src[i], sub2word_map_tgt[j]) )\n",
    "\n",
    "# printing\n",
    "class color:\n",
    "   PURPLE = '\\033[95m'\n",
    "   CYAN = '\\033[96m'\n",
    "   DARKCYAN = '\\033[36m'\n",
    "   BLUE = '\\033[94m'\n",
    "   GREEN = '\\033[92m'\n",
    "   YELLOW = '\\033[93m'\n",
    "   RED = '\\033[91m'\n",
    "   BOLD = '\\033[1m'\n",
    "   UNDERLINE = '\\033[4m'\n",
    "   END = '\\033[0m'\n",
    "\n",
    "for i, j in sorted(align_words):\n",
    "  print(f'{color.BOLD}{color.BLUE}{sent_src[i]}{color.END}==={color.BOLD}{color.RED}{sent_tgt[j]}{color.END}')"
   ],
   "id": "5d6c77e1ffc15566",
   "outputs": [
    {
     "name": "stdout",
     "output_type": "stream",
     "text": [
      "\u001B[1m\u001B[94mI\u001B[0m===\u001B[1m\u001B[91mUyumam\u001B[0m\n",
      "\u001B[1m\u001B[94mgo\u001B[0m===\u001B[1m\u001B[91mUyumam\u001B[0m\n",
      "\u001B[1m\u001B[94mgo\u001B[0m===\u001B[1m\u001B[91mlazım\u001B[0m\n",
      "\u001B[1m\u001B[94mto\u001B[0m===\u001B[1m\u001B[91mUyumam\u001B[0m\n",
      "\u001B[1m\u001B[94msleep\u001B[0m===\u001B[1m\u001B[91mlazım\u001B[0m\n",
      "\u001B[1m\u001B[94m.\u001B[0m===\u001B[1m\u001B[91m.\u001B[0m\n"
     ]
    }
   ],
   "execution_count": 14
  },
  {
   "metadata": {
    "ExecuteTime": {
     "end_time": "2025-07-05T12:40:05.971937Z",
     "start_time": "2025-07-05T12:40:05.931170Z"
    }
   },
   "cell_type": "code",
   "source": [
    "import nltk\n",
    "nltk.download(\"punkt\")\n",
    "from nltk.tokenize import word_tokenize\n",
    "tokens = word_tokenize(\"This, right here, is a test.\", language=\"turkish\")\n",
    "print(tokens)"
   ],
   "id": "4e44436e9b4ab0d8",
   "outputs": [
    {
     "name": "stdout",
     "output_type": "stream",
     "text": [
      "['This', ',', 'right', 'here', ',', 'is', 'a', 'test', '.']\n"
     ]
    },
    {
     "name": "stderr",
     "output_type": "stream",
     "text": [
      "[nltk_data] Downloading package punkt to /Users/frithjof/nltk_data...\n",
      "[nltk_data]   Package punkt is already up-to-date!\n"
     ]
    }
   ],
   "execution_count": 18
  },
  {
   "metadata": {},
   "cell_type": "code",
   "outputs": [],
   "execution_count": null,
   "source": "",
   "id": "f56b21bc7d448589"
  }
 ],
 "metadata": {
  "kernelspec": {
   "display_name": "Python 3",
   "language": "python",
   "name": "python3"
  },
  "language_info": {
   "codemirror_mode": {
    "name": "ipython",
    "version": 2
   },
   "file_extension": ".py",
   "mimetype": "text/x-python",
   "name": "python",
   "nbconvert_exporter": "python",
   "pygments_lexer": "ipython2",
   "version": "2.7.6"
  }
 },
 "nbformat": 4,
 "nbformat_minor": 5
}
