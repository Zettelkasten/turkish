{
 "cells": [
  {
   "cell_type": "code",
   "id": "initial_id",
   "metadata": {
    "collapsed": true,
    "ExecuteTime": {
     "end_time": "2025-07-06T20:25:46.106092Z",
     "start_time": "2025-07-06T20:25:46.098712Z"
    }
   },
   "source": [
    "from nltk.stem import SnowballStemmer\n",
    "\n",
    "english_stemmer = SnowballStemmer(\"english\")\n",
    "english_stemmer.stem(\"running\")  # → \"run\"\n",
    "from TurkishStemmer import TurkishStemmer\n",
    "\n",
    "turkish_stemmer = TurkishStemmer()\n",
    "turkish_stemmer.stem(\"doktoruymuşsunuz\")\n",
    "\n",
    "\"\"\"\n",
    "In the future, we should use a proper stemmer, like this:\n",
    "import spacy\n",
    "\n",
    "# Load the English model\n",
    "# TODO, we can improve this by actually using the whole english sentence as context\n",
    "english_nlp = spacy.load('en_core_web_sm')\n",
    "\n",
    "def english_dict_entry(word):\n",
    "    output = english_nlp(word)\n",
    "    if len(output) != 1:\n",
    "        return None\n",
    "    return output[0].lemma_\n",
    "\n",
    "# load the turkish one\n",
    "import zeyrek\n",
    "\n",
    "analyzer = zeyrek.MorphAnalyzer()\n",
    "analysis = analyzer.analyze('benim')\n",
    "for parse in analysis:\n",
    "    print(parse)\n",
    "\"\"\""
   ],
   "outputs": [
    {
     "data": {
      "text/plain": [
       "\"\\nIn the future, we should use a proper stemmer, like this:\\nimport spacy\\n\\n# Load the English model\\n# TODO, we can improve this by actually using the whole english sentence as context\\nenglish_nlp = spacy.load('en_core_web_sm')\\n\\ndef english_dict_entry(word):\\n    output = english_nlp(word)\\n    if len(output) != 1:\\n        return None\\n    return output[0].lemma_\\n\\n# load the turkish one\\nimport zeyrek\\n\\nanalyzer = zeyrek.MorphAnalyzer()\\nanalysis = analyzer.analyze('benim')\\nfor parse in analysis:\\n    print(parse)\\n\""
      ]
     },
     "execution_count": 31,
     "metadata": {},
     "output_type": "execute_result"
    }
   ],
   "execution_count": 31
  },
  {
   "metadata": {
    "ExecuteTime": {
     "end_time": "2025-07-06T20:27:55.208324Z",
     "start_time": "2025-07-06T20:26:18.487806Z"
    }
   },
   "cell_type": "code",
   "source": [
    "# read input file\n",
    "from collections import Counter\n",
    "\n",
    "output_dictionary = {}\n",
    "\n",
    "english_stems_to_forms = {}\n",
    "\n",
    "with open(\"tatoeba_complete.tr-en.aligned.words\", \"rt\") as input_file:\n",
    "    for line in input_file.readlines():\n",
    "        for word_alignment in line.split():\n",
    "            from_word, to_word = word_alignment.split(\"<sep>\")\n",
    "            from_stem = turkish_stemmer.stem(from_word).lower()\n",
    "            to_stem = english_stemmer.stem(to_word).lower()\n",
    "            if from_stem is None or to_stem is None:\n",
    "                continue\n",
    "            if to_stem == \"the\":\n",
    "                continue\n",
    "\n",
    "            # add it\n",
    "            if from_stem not in output_dictionary:\n",
    "                output_dictionary[from_stem] = Counter()\n",
    "            output_dictionary[from_stem][to_stem] += 1\n",
    "            # add stems to form\n",
    "            if to_stem not in english_stems_to_forms:\n",
    "                english_stems_to_forms[to_stem] = Counter()\n",
    "            english_stems_to_forms[to_stem][to_word] += 1\n",
    "\n",
    "# convert from english stems to most probable form\n",
    "output_dictionary = {\n",
    "    turkish: {\n",
    "        english_stems_to_forms[english_stem].most_common(1)[0][0]: frequency\n",
    "        for english_stem, frequency in sorted(translations.items(), key=lambda a: a[1], reverse=True)\n",
    "    }\n",
    "    for turkish, translations in output_dictionary.items()\n",
    "}"
   ],
   "id": "64c3e72bc578b9fe",
   "outputs": [],
   "execution_count": 32
  },
  {
   "metadata": {
    "ExecuteTime": {
     "end_time": "2025-07-05T15:27:38.189232Z",
     "start_time": "2025-07-05T15:27:38.184444Z"
    }
   },
   "cell_type": "code",
   "source": [
    "turkish_stem = turkish_stemmer.stem(\"yan\").lower()\n",
    "search_results = output_dictionary.get(turkish_stem)\n",
    "print(turkish_stem, search_results)\n",
    "if search_results is not None:\n",
    "    total = sum(search_results.values())\n",
    "    print(total)\n",
    "    for meaning, frequency in search_results.items():\n",
    "        if frequency > total * 0.15:\n",
    "            print(f\"{meaning} ({frequency})\")"
   ],
   "id": "b131e33297bccfd1",
   "outputs": [
    {
     "name": "stdout",
     "output_type": "stream",
     "text": [
      "geçirmek {'spend': 9, 'to': 6, 'killed': 3, 'passed': 2, 'regret': 1, 'garden': 1, 'go': 1, 'restored': 1}\n",
      "24\n",
      "spend (9)\n",
      "to (6)\n"
     ]
    }
   ],
   "execution_count": 30
  },
  {
   "metadata": {
    "ExecuteTime": {
     "end_time": "2025-07-05T15:12:15.127167Z",
     "start_time": "2025-07-05T15:12:14.649947Z"
    }
   },
   "cell_type": "code",
   "source": [
    "# export to json\n",
    "import json\n",
    "with open(\"tatoeba_head100k.tr-en.dictionary.json\", \"wt\") as output_file:\n",
    "    json.dump({turkish: [{\"english\": english, \"frequency\": frequency} for english, frequency in sorted(translations.items(), key=lambda a: a[1], reverse=True)] for turkish, translations in output_dictionary.items()}, output_file, ensure_ascii=False, indent=2)"
   ],
   "id": "59a68e9e9e75d2e1",
   "outputs": [],
   "execution_count": 26
  },
  {
   "metadata": {},
   "cell_type": "code",
   "outputs": [],
   "execution_count": null,
   "source": "",
   "id": "ea6c134599585afc"
  }
 ],
 "metadata": {
  "kernelspec": {
   "display_name": "Python 3",
   "language": "python",
   "name": "python3"
  },
  "language_info": {
   "codemirror_mode": {
    "name": "ipython",
    "version": 2
   },
   "file_extension": ".py",
   "mimetype": "text/x-python",
   "name": "python",
   "nbconvert_exporter": "python",
   "pygments_lexer": "ipython2",
   "version": "2.7.6"
  }
 },
 "nbformat": 4,
 "nbformat_minor": 5
}
